{
 "cells": [
  {
   "cell_type": "code",
   "execution_count": 1,
   "metadata": {},
   "outputs": [
    {
     "name": "stderr",
     "output_type": "stream",
     "text": [
      "/home/vinay/Workspace/hackathons/inout6/hackinout-ai/env/lib64/python3.5/site-packages/tensorflow/python/framework/dtypes.py:523: FutureWarning: Passing (type, 1) or '1type' as a synonym of type is deprecated; in a future version of numpy, it will be understood as (type, (1,)) / '(1,)type'.\n",
      "  _np_qint8 = np.dtype([(\"qint8\", np.int8, 1)])\n",
      "/home/vinay/Workspace/hackathons/inout6/hackinout-ai/env/lib64/python3.5/site-packages/tensorflow/python/framework/dtypes.py:524: FutureWarning: Passing (type, 1) or '1type' as a synonym of type is deprecated; in a future version of numpy, it will be understood as (type, (1,)) / '(1,)type'.\n",
      "  _np_quint8 = np.dtype([(\"quint8\", np.uint8, 1)])\n",
      "/home/vinay/Workspace/hackathons/inout6/hackinout-ai/env/lib64/python3.5/site-packages/tensorflow/python/framework/dtypes.py:525: FutureWarning: Passing (type, 1) or '1type' as a synonym of type is deprecated; in a future version of numpy, it will be understood as (type, (1,)) / '(1,)type'.\n",
      "  _np_qint16 = np.dtype([(\"qint16\", np.int16, 1)])\n",
      "/home/vinay/Workspace/hackathons/inout6/hackinout-ai/env/lib64/python3.5/site-packages/tensorflow/python/framework/dtypes.py:526: FutureWarning: Passing (type, 1) or '1type' as a synonym of type is deprecated; in a future version of numpy, it will be understood as (type, (1,)) / '(1,)type'.\n",
      "  _np_quint16 = np.dtype([(\"quint16\", np.uint16, 1)])\n",
      "/home/vinay/Workspace/hackathons/inout6/hackinout-ai/env/lib64/python3.5/site-packages/tensorflow/python/framework/dtypes.py:527: FutureWarning: Passing (type, 1) or '1type' as a synonym of type is deprecated; in a future version of numpy, it will be understood as (type, (1,)) / '(1,)type'.\n",
      "  _np_qint32 = np.dtype([(\"qint32\", np.int32, 1)])\n",
      "/home/vinay/Workspace/hackathons/inout6/hackinout-ai/env/lib64/python3.5/site-packages/tensorflow/python/framework/dtypes.py:532: FutureWarning: Passing (type, 1) or '1type' as a synonym of type is deprecated; in a future version of numpy, it will be understood as (type, (1,)) / '(1,)type'.\n",
      "  np_resource = np.dtype([(\"resource\", np.ubyte, 1)])\n"
     ]
    }
   ],
   "source": [
    "import tensorflow as tf\n",
    "import numpy as np\n",
    "from tensorflow.python.lib.io import file_io\n",
    "\n",
    "def load_image(image_path):\n",
    "    image_path = image_path\n",
    "    image = tf.read_file(image_path)\n",
    "    image = tf.image.decode_jpeg(image)\n",
    "    image = np.array(image)\n",
    "    return image"
   ]
  },
  {
   "cell_type": "code",
   "execution_count": 14,
   "metadata": {},
   "outputs": [],
   "source": [
    "image = load_image(\"gs://deployml/6548d9a4a179483aa0109f75917f061f/index.jpeg\")"
   ]
  },
  {
   "cell_type": "code",
   "execution_count": 15,
   "metadata": {},
   "outputs": [
    {
     "data": {
      "text/plain": [
       "array(<tf.Tensor 'DecodeJpeg_3:0' shape=(?, ?, ?) dtype=uint8>,\n",
       "      dtype=object)"
      ]
     },
     "execution_count": 15,
     "metadata": {},
     "output_type": "execute_result"
    }
   ],
   "source": [
    "image"
   ]
  },
  {
   "cell_type": "code",
   "execution_count": 16,
   "metadata": {},
   "outputs": [],
   "source": [
    "json = {\"_id\":\"5dac36464349b66e84978a6a\",\"classes\":{\"classes\":[{\"name\":\"dog\",\"media\":{\"0\":{},\"1\":{},\"2\":{},\"3\":{}},\"data\":[{\"_id\":\"5dac361a4349b66e84978a62\",\"name\":\"fgh.jpeg\",\"sha256\":\"3FfayfZHBnMz34j2S8nhbNTRwSN9PlKmCKhN5fvwyTw\",\"hash\":\"bb3e95c64f46458ebb40a3614bfcb797\",\"ext\":\".jpeg\",\"mime\":\"image/jpeg\",\"size\":\"6.26\",\"url\":\"https://storage.googleapis.com/deployml/bb3e95c64f46458ebb40a3614bfcb797/fgh.jpeg\",\"provider\":\"google-cloud-storage\",\"related\":[],\"createdAt\":\"2019-10-20T10:25:30.388Z\",\"updatedAt\":\"2019-10-20T10:25:31.032Z\",\"__v\":0,\"id\":\"5dac361a4349b66e84978a62\"},{\"_id\":\"5dac361a4349b66e84978a63\",\"name\":\"index.jpeg\",\"sha256\":\"QDF7Nk5UsVaz6XWRKz8mQZrXqbHToDBMhjbb2CY6u7U\",\"hash\":\"99715fae2b2748858b48d79250499a33\",\"ext\":\".jpeg\",\"mime\":\"image/jpeg\",\"size\":\"9.27\",\"url\":\"https://storage.googleapis.com/deployml/99715fae2b2748858b48d79250499a33/index.jpeg\",\"provider\":\"google-cloud-storage\",\"related\":[],\"createdAt\":\"2019-10-20T10:25:30.500Z\",\"updatedAt\":\"2019-10-20T10:25:31.033Z\",\"__v\":0,\"id\":\"5dac361a4349b66e84978a63\"},{\"_id\":\"5dac36194349b66e84978a61\",\"name\":\"sd.jpeg\",\"sha256\":\"uCRY4GkU3qGAiPMplHDpD3tmKOKaaCCAWknqrMdsask\",\"hash\":\"1b3b87b163ce4987b36cd1253d370fb0\",\"ext\":\".jpeg\",\"mime\":\"image/jpeg\",\"size\":\"7.60\",\"url\":\"https://storage.googleapis.com/deployml/1b3b87b163ce4987b36cd1253d370fb0/sd.jpeg\",\"provider\":\"google-cloud-storage\",\"related\":[],\"createdAt\":\"2019-10-20T10:25:29.552Z\",\"updatedAt\":\"2019-10-20T10:25:29.986Z\",\"__v\":0,\"id\":\"5dac36194349b66e84978a61\"},{\"_id\":\"5dac36294349b66e84978a64\",\"name\":\"sfg.jpeg\",\"sha256\":\"685SolWerRj-nJTSdRXnuGsE4KhZl_YHPTbc0BhBnRA\",\"hash\":\"e06e33345c9f4cafa18c6da85a58ab71\",\"ext\":\".jpeg\",\"mime\":\"image/jpeg\",\"size\":\"9.38\",\"url\":\"https://storage.googleapis.com/deployml/e06e33345c9f4cafa18c6da85a58ab71/sfg.jpeg\",\"provider\":\"google-cloud-storage\",\"related\":[],\"createdAt\":\"2019-10-20T10:25:45.200Z\",\"updatedAt\":\"2019-10-20T10:25:45.782Z\",\"__v\":0,\"id\":\"5dac36294349b66e84978a64\"}]},{\"name\":\"cat\",\"media\":{\"0\":{},\"1\":{},\"2\":{},\"3\":{},\"4\":{}},\"data\":[{\"_id\":\"5dac36394349b66e84978a68\",\"name\":\"car567.jpeg\",\"sha256\":\"Qr9JYxnYC0FK_jkuTA3bzMQpOgt1krBJunmEeDGJJUg\",\"hash\":\"c738926bc93547c28b88213cec449eb1\",\"ext\":\".jpeg\",\"mime\":\"image/jpeg\",\"size\":\"10.00\",\"url\":\"https://storage.googleapis.com/deployml/c738926bc93547c28b88213cec449eb1/car567.jpeg\",\"provider\":\"google-cloud-storage\",\"related\":[],\"createdAt\":\"2019-10-20T10:26:01.248Z\",\"updatedAt\":\"2019-10-20T10:26:01.692Z\",\"__v\":0,\"id\":\"5dac36394349b66e84978a68\"},{\"_id\":\"5dac36424349b66e84978a69\",\"name\":\"cat.jpeg\",\"sha256\":\"ZC_bLtbTPJKOLiEzcRtlTS-ro5zM1+cj5Z2TNqniNpY\",\"hash\":\"8618bb33a5a44947bd1b00d45304a0f6\",\"ext\":\".jpeg\",\"mime\":\"image/jpeg\",\"size\":\"7.96\",\"url\":\"https://storage.googleapis.com/deployml/8618bb33a5a44947bd1b00d45304a0f6/cat.jpeg\",\"provider\":\"google-cloud-storage\",\"related\":[],\"createdAt\":\"2019-10-20T10:26:10.408Z\",\"updatedAt\":\"2019-10-20T10:26:11.050Z\",\"__v\":0,\"id\":\"5dac36424349b66e84978a69\"},{\"_id\":\"5dac36354349b66e84978a67\",\"name\":\"cat4.jpeg\",\"sha256\":\"y5gTrwtwBdMHtIkx-CWqwKg6tZNay3Ghrf8mEcM_QZU\",\"hash\":\"477b3c5877ef4efe80cccfaee71aa0e8\",\"ext\":\".jpeg\",\"mime\":\"image/jpeg\",\"size\":\"6.36\",\"url\":\"https://storage.googleapis.com/deployml/477b3c5877ef4efe80cccfaee71aa0e8/cat4.jpeg\",\"provider\":\"google-cloud-storage\",\"related\":[],\"createdAt\":\"2019-10-20T10:25:57.386Z\",\"updatedAt\":\"2019-10-20T10:25:57.728Z\",\"__v\":0,\"id\":\"5dac36354349b66e84978a67\"},{\"_id\":\"5dac36354349b66e84978a66\",\"name\":\"cat23.jpeg\",\"sha256\":\"ILrbFpcm9-FQOu1sRZ0Wfp6Gc2vzjrdkt311jyeY8Sw\",\"hash\":\"92c9bc1c95ce4605bff7dca1d1d0623d\",\"ext\":\".jpeg\",\"mime\":\"image/jpeg\",\"size\":\"7.67\",\"url\":\"https://storage.googleapis.com/deployml/92c9bc1c95ce4605bff7dca1d1d0623d/cat23.jpeg\",\"provider\":\"google-cloud-storage\",\"related\":[],\"createdAt\":\"2019-10-20T10:25:57.085Z\",\"updatedAt\":\"2019-10-20T10:25:57.437Z\",\"__v\":0,\"id\":\"5dac36354349b66e84978a66\"},{\"_id\":\"5dac36324349b66e84978a65\",\"name\":\"cat98.jpeg\",\"sha256\":\"E-WvXCqSL42nQsSW2r5jTEbE_jtTt-dUXgXqmesK34E\",\"hash\":\"b9539c3fb1a941b6b10c9436a3d04fd3\",\"ext\":\".jpeg\",\"mime\":\"image/jpeg\",\"size\":\"6.91\",\"url\":\"https://storage.googleapis.com/deployml/b9539c3fb1a941b6b10c9436a3d04fd3/cat98.jpeg\",\"provider\":\"google-cloud-storage\",\"related\":[],\"createdAt\":\"2019-10-20T10:25:54.828Z\",\"updatedAt\":\"2019-10-20T10:25:55.381Z\",\"__v\":0,\"id\":\"5dac36324349b66e84978a65\"}]}]},\"name\":\"dog vs cats\",\"typeproject\":\"IMG\",\"createdAt\":\"2019-10-20T10:26:14.840Z\",\"updatedAt\":\"2019-10-20T10:26:15.657Z\",\"__v\":0,\"modelfile\":[],\"id\":\"5dac36464349b66e84978a6a\"}"
   ]
  },
  {
   "cell_type": "code",
   "execution_count": 43,
   "metadata": {},
   "outputs": [
    {
     "data": {
      "text/plain": [
       "[{'image': 'https://storage.googleapis.com/deployml/bb3e95c64f46458ebb40a3614bfcb797/fgh.jpeg',\n",
       "  'label': 'dog'},\n",
       " {'image': 'https://storage.googleapis.com/deployml/99715fae2b2748858b48d79250499a33/index.jpeg',\n",
       "  'label': 'dog'},\n",
       " {'image': 'https://storage.googleapis.com/deployml/1b3b87b163ce4987b36cd1253d370fb0/sd.jpeg',\n",
       "  'label': 'dog'},\n",
       " {'image': 'https://storage.googleapis.com/deployml/e06e33345c9f4cafa18c6da85a58ab71/sfg.jpeg',\n",
       "  'label': 'dog'},\n",
       " {'image': 'https://storage.googleapis.com/deployml/c738926bc93547c28b88213cec449eb1/car567.jpeg',\n",
       "  'label': 'cat'},\n",
       " {'image': 'https://storage.googleapis.com/deployml/8618bb33a5a44947bd1b00d45304a0f6/cat.jpeg',\n",
       "  'label': 'cat'},\n",
       " {'image': 'https://storage.googleapis.com/deployml/477b3c5877ef4efe80cccfaee71aa0e8/cat4.jpeg',\n",
       "  'label': 'cat'},\n",
       " {'image': 'https://storage.googleapis.com/deployml/92c9bc1c95ce4605bff7dca1d1d0623d/cat23.jpeg',\n",
       "  'label': 'cat'},\n",
       " {'image': 'https://storage.googleapis.com/deployml/b9539c3fb1a941b6b10c9436a3d04fd3/cat98.jpeg',\n",
       "  'label': 'cat'}]"
      ]
     },
     "execution_count": 43,
     "metadata": {},
     "output_type": "execute_result"
    }
   ],
   "source": [
    "data = json['classes']['classes']\n",
    "X = []\n",
    "\n",
    "for d in data:\n",
    "    for item in d['data']:\n",
    "        X.append({'image': item['url'], 'label': d['name']})\n",
    "\n",
    "X"
   ]
  },
  {
   "cell_type": "code",
   "execution_count": 45,
   "metadata": {},
   "outputs": [
    {
     "data": {
      "text/html": [
       "<div>\n",
       "<style scoped>\n",
       "    .dataframe tbody tr th:only-of-type {\n",
       "        vertical-align: middle;\n",
       "    }\n",
       "\n",
       "    .dataframe tbody tr th {\n",
       "        vertical-align: top;\n",
       "    }\n",
       "\n",
       "    .dataframe thead th {\n",
       "        text-align: right;\n",
       "    }\n",
       "</style>\n",
       "<table border=\"1\" class=\"dataframe\">\n",
       "  <thead>\n",
       "    <tr style=\"text-align: right;\">\n",
       "      <th></th>\n",
       "      <th>image</th>\n",
       "      <th>label</th>\n",
       "    </tr>\n",
       "  </thead>\n",
       "  <tbody>\n",
       "    <tr>\n",
       "      <th>0</th>\n",
       "      <td>https://storage.googleapis.com/deployml/bb3e95...</td>\n",
       "      <td>dog</td>\n",
       "    </tr>\n",
       "    <tr>\n",
       "      <th>1</th>\n",
       "      <td>https://storage.googleapis.com/deployml/99715f...</td>\n",
       "      <td>dog</td>\n",
       "    </tr>\n",
       "    <tr>\n",
       "      <th>2</th>\n",
       "      <td>https://storage.googleapis.com/deployml/1b3b87...</td>\n",
       "      <td>dog</td>\n",
       "    </tr>\n",
       "    <tr>\n",
       "      <th>3</th>\n",
       "      <td>https://storage.googleapis.com/deployml/e06e33...</td>\n",
       "      <td>dog</td>\n",
       "    </tr>\n",
       "    <tr>\n",
       "      <th>4</th>\n",
       "      <td>https://storage.googleapis.com/deployml/c73892...</td>\n",
       "      <td>cat</td>\n",
       "    </tr>\n",
       "  </tbody>\n",
       "</table>\n",
       "</div>"
      ],
      "text/plain": [
       "                                               image label\n",
       "0  https://storage.googleapis.com/deployml/bb3e95...   dog\n",
       "1  https://storage.googleapis.com/deployml/99715f...   dog\n",
       "2  https://storage.googleapis.com/deployml/1b3b87...   dog\n",
       "3  https://storage.googleapis.com/deployml/e06e33...   dog\n",
       "4  https://storage.googleapis.com/deployml/c73892...   cat"
      ]
     },
     "execution_count": 45,
     "metadata": {},
     "output_type": "execute_result"
    }
   ],
   "source": [
    "import pandas as pd\n",
    "\n",
    "df = pd.DataFrame(data = X)\n",
    "\n",
    "df.head()"
   ]
  },
  {
   "cell_type": "code",
   "execution_count": 19,
   "metadata": {},
   "outputs": [
    {
     "data": {
      "text/plain": [
       "<matplotlib.image.AxesImage at 0x7f1b85ca2908>"
      ]
     },
     "execution_count": 19,
     "metadata": {},
     "output_type": "execute_result"
    },
    {
     "data": {
      "image/png": "[encoded data removed]",
      "text/plain": [
       "<Figure size 432x288 with 1 Axes>"
      ]
     },
     "metadata": {
      "needs_background": "light"
     },
     "output_type": "display_data"
    }
   ],
   "source": [
    "import requests\n",
    "from PIL import Image\n",
    "from io import BytesIO\n",
    "import matplotlib.pyplot as plt\n",
    "\n",
    "def load_image(imagepath, shape=(224,224)):\n",
    "    response = requests.get(imagepath)\n",
    "    img = Image.open(BytesIO(response.content))\n",
    "    img = img.resize(shape)\n",
    "    return img\n",
    "    \n",
    "image = load_image(df['image'][0])\n",
    "plt.imshow(image)"
   ]
  },
  {
   "cell_type": "code",
   "execution_count": 50,
   "metadata": {},
   "outputs": [
    {
     "name": "stderr",
     "output_type": "stream",
     "text": [
      "Using TensorFlow backend.\n"
     ]
    },
    {
     "name": "stdout",
     "output_type": "stream",
     "text": [
      "Downloading data from https://github.com/fchollet/deep-learning-models/releases/download/v0.1/vgg16_weights_tf_dim_ordering_tf_kernels.h5\n",
      "553467904/553467096 [==============================] - 434s 1us/step\n",
      "_________________________________________________________________\n",
      "Layer (type)                 Output Shape              Param #   \n",
      "=================================================================\n",
      "input_1 (InputLayer)         (None, 224, 224, 3)       0         \n",
      "_________________________________________________________________\n",
      "block1_conv1 (Conv2D)        (None, 224, 224, 64)      1792      \n",
      "_________________________________________________________________\n",
      "block1_conv2 (Conv2D)        (None, 224, 224, 64)      36928     \n",
      "_________________________________________________________________\n",
      "block1_pool (MaxPooling2D)   (None, 112, 112, 64)      0         \n",
      "_________________________________________________________________\n",
      "block2_conv1 (Conv2D)        (None, 112, 112, 128)     73856     \n",
      "_________________________________________________________________\n",
      "block2_conv2 (Conv2D)        (None, 112, 112, 128)     147584    \n",
      "_________________________________________________________________\n",
      "block2_pool (MaxPooling2D)   (None, 56, 56, 128)       0         \n",
      "_________________________________________________________________\n",
      "block3_conv1 (Conv2D)        (None, 56, 56, 256)       295168    \n",
      "_________________________________________________________________\n",
      "block3_conv2 (Conv2D)        (None, 56, 56, 256)       590080    \n",
      "_________________________________________________________________\n",
      "block3_conv3 (Conv2D)        (None, 56, 56, 256)       590080    \n",
      "_________________________________________________________________\n",
      "block3_pool (MaxPooling2D)   (None, 28, 28, 256)       0         \n",
      "_________________________________________________________________\n",
      "block4_conv1 (Conv2D)        (None, 28, 28, 512)       1180160   \n",
      "_________________________________________________________________\n",
      "block4_conv2 (Conv2D)        (None, 28, 28, 512)       2359808   \n",
      "_________________________________________________________________\n",
      "block4_conv3 (Conv2D)        (None, 28, 28, 512)       2359808   \n",
      "_________________________________________________________________\n",
      "block4_pool (MaxPooling2D)   (None, 14, 14, 512)       0         \n",
      "_________________________________________________________________\n",
      "block5_conv1 (Conv2D)        (None, 14, 14, 512)       2359808   \n",
      "_________________________________________________________________\n",
      "block5_conv2 (Conv2D)        (None, 14, 14, 512)       2359808   \n",
      "_________________________________________________________________\n",
      "block5_conv3 (Conv2D)        (None, 14, 14, 512)       2359808   \n",
      "_________________________________________________________________\n",
      "block5_pool (MaxPooling2D)   (None, 7, 7, 512)         0         \n",
      "_________________________________________________________________\n",
      "flatten (Flatten)            (None, 25088)             0         \n",
      "_________________________________________________________________\n",
      "fc1 (Dense)                  (None, 4096)              102764544 \n",
      "_________________________________________________________________\n",
      "fc2 (Dense)                  (None, 4096)              16781312  \n",
      "_________________________________________________________________\n",
      "predictions (Dense)          (None, 1000)              4097000   \n",
      "=================================================================\n",
      "Total params: 138,357,544\n",
      "Trainable params: 138,357,544\n",
      "Non-trainable params: 0\n",
      "_________________________________________________________________\n"
     ]
    }
   ],
   "source": [
    "# example of loading the vgg16 model\n",
    "from keras.applications.vgg16 import VGG16\n",
    "# load model\n",
    "model = VGG16()\n",
    "# summarize the model\n",
    "model.summary()"
   ]
  },
  {
   "cell_type": "code",
   "execution_count": 20,
   "metadata": {},
   "outputs": [],
   "source": [
    "import tensorflow as tf\n",
    "from keras.applications import ResNet50\n",
    "from keras.models import Sequential\n",
    "from keras.layers import Dense"
   ]
  },
  {
   "cell_type": "code",
   "execution_count": 21,
   "metadata": {},
   "outputs": [],
   "source": [
    "resnet_weights_path = 'resnet50_weights_tf_dim_ordering_tf_kernels_notop.h5'"
   ]
  },
  {
   "cell_type": "code",
   "execution_count": 23,
   "metadata": {},
   "outputs": [
    {
     "name": "stdout",
     "output_type": "stream",
     "text": [
      "_________________________________________________________________\n",
      "Layer (type)                 Output Shape              Param #   \n",
      "=================================================================\n",
      "resnet50 (Model)             (None, 2048)              23587712  \n",
      "_________________________________________________________________\n",
      "dense_1 (Dense)              (None, 2)                 4098      \n",
      "=================================================================\n",
      "Total params: 23,591,810\n",
      "Trainable params: 4,098\n",
      "Non-trainable params: 23,587,712\n",
      "_________________________________________________________________\n"
     ]
    }
   ],
   "source": [
    "#Still not talking about our train/test data or any pre-processing.\n",
    "\n",
    "model = Sequential()\n",
    "\n",
    "# 1st layer as the lumpsum weights from resnet50_weights_tf_dim_ordering_tf_kernels_notop.h5\n",
    "# NOTE that this layer will be set below as NOT TRAINABLE, i.e., use it as is\n",
    "model.add(ResNet50(include_top = False, pooling = 'avg', weights = 'imagenet'))\n",
    "\n",
    "# 2nd layer as Dense for 2-class classification, i.e., dog or cat using SoftMax activation\n",
    "model.add(Dense(2, activation = 'sigmoid'))\n",
    "\n",
    "# Say not to train first layer (ResNet) model as it is already trained\n",
    "model.layers[0].trainable = False\n",
    "model.summary()"
   ]
  },
  {
   "cell_type": "code",
   "execution_count": 46,
   "metadata": {},
   "outputs": [
    {
     "data": {
      "text/html": [
       "<div>\n",
       "<style scoped>\n",
       "    .dataframe tbody tr th:only-of-type {\n",
       "        vertical-align: middle;\n",
       "    }\n",
       "\n",
       "    .dataframe tbody tr th {\n",
       "        vertical-align: top;\n",
       "    }\n",
       "\n",
       "    .dataframe thead th {\n",
       "        text-align: right;\n",
       "    }\n",
       "</style>\n",
       "<table border=\"1\" class=\"dataframe\">\n",
       "  <thead>\n",
       "    <tr style=\"text-align: right;\">\n",
       "      <th></th>\n",
       "      <th>image</th>\n",
       "      <th>label</th>\n",
       "      <th>path</th>\n",
       "    </tr>\n",
       "  </thead>\n",
       "  <tbody>\n",
       "    <tr>\n",
       "      <th>0</th>\n",
       "      <td>https://storage.googleapis.com/deployml/bb3e95...</td>\n",
       "      <td>dog</td>\n",
       "      <td>bb3e95c64f46458ebb40a3614bfcb797/fgh.jpeg</td>\n",
       "    </tr>\n",
       "    <tr>\n",
       "      <th>1</th>\n",
       "      <td>https://storage.googleapis.com/deployml/99715f...</td>\n",
       "      <td>dog</td>\n",
       "      <td>99715fae2b2748858b48d79250499a33/index.jpeg</td>\n",
       "    </tr>\n",
       "    <tr>\n",
       "      <th>2</th>\n",
       "      <td>https://storage.googleapis.com/deployml/1b3b87...</td>\n",
       "      <td>dog</td>\n",
       "      <td>1b3b87b163ce4987b36cd1253d370fb0/sd.jpeg</td>\n",
       "    </tr>\n",
       "    <tr>\n",
       "      <th>3</th>\n",
       "      <td>https://storage.googleapis.com/deployml/e06e33...</td>\n",
       "      <td>dog</td>\n",
       "      <td>e06e33345c9f4cafa18c6da85a58ab71/sfg.jpeg</td>\n",
       "    </tr>\n",
       "    <tr>\n",
       "      <th>4</th>\n",
       "      <td>https://storage.googleapis.com/deployml/c73892...</td>\n",
       "      <td>cat</td>\n",
       "      <td>c738926bc93547c28b88213cec449eb1/car567.jpeg</td>\n",
       "    </tr>\n",
       "    <tr>\n",
       "      <th>5</th>\n",
       "      <td>https://storage.googleapis.com/deployml/8618bb...</td>\n",
       "      <td>cat</td>\n",
       "      <td>8618bb33a5a44947bd1b00d45304a0f6/cat.jpeg</td>\n",
       "    </tr>\n",
       "    <tr>\n",
       "      <th>6</th>\n",
       "      <td>https://storage.googleapis.com/deployml/477b3c...</td>\n",
       "      <td>cat</td>\n",
       "      <td>477b3c5877ef4efe80cccfaee71aa0e8/cat4.jpeg</td>\n",
       "    </tr>\n",
       "    <tr>\n",
       "      <th>7</th>\n",
       "      <td>https://storage.googleapis.com/deployml/92c9bc...</td>\n",
       "      <td>cat</td>\n",
       "      <td>92c9bc1c95ce4605bff7dca1d1d0623d/cat23.jpeg</td>\n",
       "    </tr>\n",
       "    <tr>\n",
       "      <th>8</th>\n",
       "      <td>https://storage.googleapis.com/deployml/b9539c...</td>\n",
       "      <td>cat</td>\n",
       "      <td>b9539c3fb1a941b6b10c9436a3d04fd3/cat98.jpeg</td>\n",
       "    </tr>\n",
       "  </tbody>\n",
       "</table>\n",
       "</div>"
      ],
      "text/plain": [
       "                                               image label  \\\n",
       "0  https://storage.googleapis.com/deployml/bb3e95...   dog   \n",
       "1  https://storage.googleapis.com/deployml/99715f...   dog   \n",
       "2  https://storage.googleapis.com/deployml/1b3b87...   dog   \n",
       "3  https://storage.googleapis.com/deployml/e06e33...   dog   \n",
       "4  https://storage.googleapis.com/deployml/c73892...   cat   \n",
       "5  https://storage.googleapis.com/deployml/8618bb...   cat   \n",
       "6  https://storage.googleapis.com/deployml/477b3c...   cat   \n",
       "7  https://storage.googleapis.com/deployml/92c9bc...   cat   \n",
       "8  https://storage.googleapis.com/deployml/b9539c...   cat   \n",
       "\n",
       "                                           path  \n",
       "0     bb3e95c64f46458ebb40a3614bfcb797/fgh.jpeg  \n",
       "1   99715fae2b2748858b48d79250499a33/index.jpeg  \n",
       "2      1b3b87b163ce4987b36cd1253d370fb0/sd.jpeg  \n",
       "3     e06e33345c9f4cafa18c6da85a58ab71/sfg.jpeg  \n",
       "4  c738926bc93547c28b88213cec449eb1/car567.jpeg  \n",
       "5     8618bb33a5a44947bd1b00d45304a0f6/cat.jpeg  \n",
       "6    477b3c5877ef4efe80cccfaee71aa0e8/cat4.jpeg  \n",
       "7   92c9bc1c95ce4605bff7dca1d1d0623d/cat23.jpeg  \n",
       "8   b9539c3fb1a941b6b10c9436a3d04fd3/cat98.jpeg  "
      ]
     },
     "execution_count": 46,
     "metadata": {},
     "output_type": "execute_result"
    }
   ],
   "source": [
    "## Data Generation + Storage\n",
    "\n",
    "# def replace_str(string):\n",
    "#         return string.replace('https://storage.googleapis.com/deployml/', '')\n",
    "\n",
    "# df['path'] = df['image'].apply(replace_str)\n",
    "\n",
    "df['path'] = df['image'].apply(lambda x: x.replace('https://storage.googleapis.com/deployml/', ''))\n",
    "\n",
    "\n",
    "\n",
    "df"
   ]
  },
  {
   "cell_type": "code",
   "execution_count": 10,
   "metadata": {},
   "outputs": [],
   "source": [
    "import os\n",
    "\n",
    "X = []\n",
    "y = []\n",
    "\n",
    "for index, row in df.iterrows():\n",
    "    if not os.path.exists(\"../tmp/\"+row['label']+\"/\" + row['path'].split('/')[0]):\n",
    "        os.makedirs(\"../tmp/\"+row['label']+\"/\" + row['path'].split('/')[0])\n",
    "    \n",
    "    image = load_image(row['image'], shape=(224,224))\n",
    "    X.append(np.array(image))\n",
    "    y.append(row['label'])\n",
    "    image.save(\"../tmp/\"+row['label']+\"/\"+row['path'])"
   ]
  },
  {
   "cell_type": "code",
   "execution_count": 14,
   "metadata": {},
   "outputs": [],
   "source": [
    "model.save('resnet.hdf5')"
   ]
  },
  {
   "cell_type": "code",
   "execution_count": 122,
   "metadata": {},
   "outputs": [],
   "source": [
    "from keras import optimizers\n",
    "\n",
    "sgd = optimizers.SGD(lr = 0.01, decay = 1e-6, momentum = 0.9, nesterov = True)\n",
    "model.compile(optimizer = sgd, loss = 'binary_crossentropy', metrics = ['accuracy'])"
   ]
  },
  {
   "cell_type": "code",
   "execution_count": 123,
   "metadata": {},
   "outputs": [],
   "source": [
    "from keras.applications.resnet50 import preprocess_input\n",
    "from keras.preprocessing.image import ImageDataGenerator\n",
    "\n",
    "train_datagen = ImageDataGenerator(\n",
    "    rotation_range=10,\n",
    "    width_shift_range=0.1,\n",
    "    height_shift_range=0.1,\n",
    "    fill_mode='nearest',\n",
    "    vertical_flip=True,\n",
    "    horizontal_flip=True)"
   ]
  },
  {
   "cell_type": "code",
   "execution_count": 124,
   "metadata": {},
   "outputs": [
    {
     "name": "stdout",
     "output_type": "stream",
     "text": [
      "[[0]\n",
      " [0]]\n"
     ]
    }
   ],
   "source": [
    "from sklearn.model_selection import train_test_split\n",
    "from keras.utils import to_categorical\n",
    "from sklearn.preprocessing import LabelBinarizer\n",
    "\n",
    "X = np.array(X)\n",
    "y = np.asarray(y)\n",
    "\n",
    "encoder = LabelBinarizer()\n",
    "y_cat = encoder.fit_transform(y)\n",
    "print(y_cat)\n",
    "\n",
    "# Split the dataset into training set and test set.\n",
    "X_train, X_test, y_train, y_test = train_test_split(X, y_cat, test_size=0.20, shuffle=True)\n",
    "X_train = X_train.astype('float32')\n",
    "X_test = X_test.astype('float32')"
   ]
  },
  {
   "cell_type": "code",
   "execution_count": 125,
   "metadata": {},
   "outputs": [
    {
     "name": "stdout",
     "output_type": "stream",
     "text": [
      "Epoch 1/20\n",
      "32/32 [==============================] - 11s 350ms/step - loss: 0.0146 - acc: 1.0000 - val_loss: 3.3741e-07 - val_acc: 1.0000\n",
      "Epoch 2/20\n",
      "32/32 [==============================] - 6s 203ms/step - loss: 3.7971e-06 - acc: 1.0000 - val_loss: 2.0800e-07 - val_acc: 1.0000\n",
      "Epoch 3/20\n",
      "32/32 [==============================] - 6s 199ms/step - loss: 3.3678e-06 - acc: 1.0000 - val_loss: 2.0381e-07 - val_acc: 1.0000\n",
      "Epoch 4/20\n",
      "32/32 [==============================] - 7s 223ms/step - loss: 3.5985e-06 - acc: 1.0000 - val_loss: 2.0291e-07 - val_acc: 1.0000\n",
      "Epoch 5/20\n",
      "32/32 [==============================] - 8s 254ms/step - loss: 3.4342e-06 - acc: 1.0000 - val_loss: 2.0213e-07 - val_acc: 1.0000\n",
      "Epoch 6/20\n",
      "32/32 [==============================] - 8s 259ms/step - loss: 3.4869e-06 - acc: 1.0000 - val_loss: 2.0135e-07 - val_acc: 1.0000\n",
      "Epoch 7/20\n",
      "32/32 [==============================] - 7s 222ms/step - loss: 3.2691e-06 - acc: 1.0000 - val_loss: 2.0058e-07 - val_acc: 1.0000\n",
      "Epoch 8/20\n",
      "32/32 [==============================] - 7s 205ms/step - loss: 3.2375e-06 - acc: 1.0000 - val_loss: 1.9987e-07 - val_acc: 1.0000\n",
      "Epoch 9/20\n",
      "32/32 [==============================] - 7s 223ms/step - loss: 3.4248e-06 - acc: 1.0000 - val_loss: 1.9913e-07 - val_acc: 1.0000\n",
      "Epoch 10/20\n",
      "32/32 [==============================] - 8s 258ms/step - loss: 3.2560e-06 - acc: 1.0000 - val_loss: 1.9840e-07 - val_acc: 1.0000\n",
      "Epoch 11/20\n",
      "32/32 [==============================] - 8s 239ms/step - loss: 3.5995e-06 - acc: 1.0000 - val_loss: 1.9760e-07 - val_acc: 1.0000\n",
      "Epoch 12/20\n",
      "32/32 [==============================] - 8s 234ms/step - loss: 3.1164e-06 - acc: 1.0000 - val_loss: 1.9689e-07 - val_acc: 1.0000\n",
      "Epoch 13/20\n",
      "32/32 [==============================] - 6s 201ms/step - loss: 3.3109e-06 - acc: 1.0000 - val_loss: 1.9618e-07 - val_acc: 1.0000\n",
      "Epoch 14/20\n",
      "32/32 [==============================] - 7s 210ms/step - loss: 3.3058e-06 - acc: 1.0000 - val_loss: 1.9546e-07 - val_acc: 1.0000\n",
      "Epoch 15/20\n",
      "32/32 [==============================] - 8s 243ms/step - loss: 3.0040e-06 - acc: 1.0000 - val_loss: 1.9480e-07 - val_acc: 1.0000\n",
      "Epoch 16/20\n",
      "32/32 [==============================] - 8s 248ms/step - loss: 3.0858e-06 - acc: 1.0000 - val_loss: 1.9413e-07 - val_acc: 1.0000\n",
      "Epoch 17/20\n",
      "32/32 [==============================] - 8s 235ms/step - loss: 3.4110e-06 - acc: 1.0000 - val_loss: 1.9342e-07 - val_acc: 1.0000\n",
      "Epoch 18/20\n",
      "32/32 [==============================] - 6s 201ms/step - loss: 3.2870e-06 - acc: 1.0000 - val_loss: 1.9273e-07 - val_acc: 1.0000\n",
      "Epoch 19/20\n",
      "32/32 [==============================] - 6s 201ms/step - loss: 3.2937e-06 - acc: 1.0000 - val_loss: 1.9202e-07 - val_acc: 1.0000\n",
      "Epoch 20/20\n",
      "32/32 [==============================] - 7s 214ms/step - loss: 3.3466e-06 - acc: 1.0000 - val_loss: 1.9130e-07 - val_acc: 1.0000\n"
     ]
    }
   ],
   "source": [
    "history = model.fit_generator(train_datagen.flow(X_train, y_train, batch_size=32),\n",
    "                              steps_per_epoch=32, epochs=20,\n",
    "                              validation_data=(X_test, y_test))"
   ]
  },
  {
   "cell_type": "code",
   "execution_count": null,
   "metadata": {},
   "outputs": [],
   "source": []
  }
 ],
 "metadata": {
  "kernelspec": {
   "display_name": "Python 3",
   "language": "python",
   "name": "python3"
  },
  "language_info": {
   "codemirror_mode": {
    "name": "ipython",
    "version": 3
   },
   "file_extension": ".py",
   "mimetype": "text/x-python",
   "name": "python",
   "nbconvert_exporter": "python",
   "pygments_lexer": "ipython3",
   "version": "3.5.7"
  }
 },
 "nbformat": 4,
 "nbformat_minor": 2
}
