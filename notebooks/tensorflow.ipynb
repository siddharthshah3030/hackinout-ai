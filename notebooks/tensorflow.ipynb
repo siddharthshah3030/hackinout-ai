{
 "cells": [
  {
   "cell_type": "code",
   "execution_count": 7,
   "metadata": {},
   "outputs": [],
   "source": [
    "import onnxmltools\n",
    "import tensorflow as tf\n",
    "import tf2onnx"
   ]
  },
  {
   "cell_type": "code",
   "execution_count": 9,
   "metadata": {},
   "outputs": [
    {
     "name": "stdout",
     "output_type": "stream",
     "text": [
      "usage: convert.py [-h] [--input INPUT] [--graphdef GRAPHDEF]\n",
      "                  [--saved-model SAVED_MODEL] [--signature_def SIGNATURE_DEF]\n",
      "                  [--checkpoint CHECKPOINT] [--output OUTPUT]\n",
      "                  [--inputs INPUTS] [--outputs OUTPUTS] [--opset OPSET]\n",
      "                  [--custom-ops CUSTOM_OPS] [--extra_opset EXTRA_OPSET]\n",
      "                  [--target {rs4,rs5,rs6,caffe2}] [--continue_on_error]\n",
      "                  [--verbose] [--debug] [--fold_const]\n",
      "                  [--inputs-as-nchw INPUTS_AS_NCHW]\n",
      "convert.py: error: unrecognized arguments: --saved_model savedmodel\n"
     ]
    }
   ],
   "source": [
    "!python3 -m tf2onnx.convert \\\n",
    "        --saved_model savedmodel \\\n",
    "        --output model.onnx \\\n",
    "        --target rs6 \\\n",
    "        --fold_const \\\n",
    "        --verbose"
   ]
  },
  {
   "cell_type": "code",
   "execution_count": 10,
   "metadata": {},
   "outputs": [
    {
     "name": "stdout",
     "output_type": "stream",
     "text": [
      "WARNING:tensorflow:From /home/vinay/Workspace/hackathons/inout6/hackinout-ai/env/lib64/python3.7/site-packages/tf2onnx/verbose_logging.py:72: The name tf.logging.set_verbosity is deprecated. Please use tf.compat.v1.logging.set_verbosity instead.\n",
      "\n",
      "2019-10-19 19:12:35,525 - WARNING - tensorflow: From /home/vinay/Workspace/hackathons/inout6/hackinout-ai/env/lib64/python3.7/site-packages/tf2onnx/verbose_logging.py:72: The name tf.logging.set_verbosity is deprecated. Please use tf.compat.v1.logging.set_verbosity instead.\n",
      "\n",
      "WARNING:tensorflow:From /home/vinay/Workspace/hackathons/inout6/hackinout-ai/env/lib64/python3.7/site-packages/tf2onnx/loader.py:58: The name tf.reset_default_graph is deprecated. Please use tf.compat.v1.reset_default_graph instead.\n",
      "\n",
      "2019-10-19 19:12:35,526 - WARNING - tensorflow: From /home/vinay/Workspace/hackathons/inout6/hackinout-ai/env/lib64/python3.7/site-packages/tf2onnx/loader.py:58: The name tf.reset_default_graph is deprecated. Please use tf.compat.v1.reset_default_graph instead.\n",
      "\n",
      "2019-10-19 19:12:35.594536: W tensorflow/stream_executor/platform/default/dso_loader.cc:55] Could not load dynamic library 'libcuda.so.1'; dlerror: libcuda.so.1: cannot open shared object file: No such file or directory\n",
      "2019-10-19 19:12:35.607165: E tensorflow/stream_executor/cuda/cuda_driver.cc:318] failed call to cuInit: UNKNOWN ERROR (303)\n",
      "2019-10-19 19:12:35.607408: I tensorflow/stream_executor/cuda/cuda_diagnostics.cc:156] kernel driver does not appear to be running on this host (localhost.localdomain): /proc/driver/nvidia/version does not exist\n",
      "2019-10-19 19:12:35.616479: I tensorflow/core/platform/cpu_feature_guard.cc:142] Your CPU supports instructions that this TensorFlow binary was not compiled to use: AVX2 FMA\n",
      "2019-10-19 19:12:35.875821: I tensorflow/core/platform/profile_utils/cpu_utils.cc:94] CPU Frequency: 2592000000 Hz\n",
      "2019-10-19 19:12:35.890169: I tensorflow/compiler/xla/service/service.cc:168] XLA service 0x562f06295890 initialized for platform Host (this does not guarantee that XLA will be used). Devices:\n",
      "2019-10-19 19:12:35.890285: I tensorflow/compiler/xla/service/service.cc:176]   StreamExecutor device (0): Host, Default Version\n",
      "WARNING:tensorflow:From /home/vinay/Workspace/hackathons/inout6/hackinout-ai/env/lib64/python3.7/site-packages/tf2onnx/loader.py:61: The name tf.gfile.GFile is deprecated. Please use tf.io.gfile.GFile instead.\n",
      "\n",
      "2019-10-19 19:12:35,913 - WARNING - tensorflow: From /home/vinay/Workspace/hackathons/inout6/hackinout-ai/env/lib64/python3.7/site-packages/tf2onnx/loader.py:61: The name tf.gfile.GFile is deprecated. Please use tf.io.gfile.GFile instead.\n",
      "\n",
      "Traceback (most recent call last):\n",
      "  File \"/usr/lib64/python3.7/runpy.py\", line 193, in _run_module_as_main\n",
      "    \"__main__\", mod_spec)\n",
      "  File \"/usr/lib64/python3.7/runpy.py\", line 85, in _run_code\n",
      "    exec(code, run_globals)\n",
      "  File \"/home/vinay/Workspace/hackathons/inout6/hackinout-ai/env/lib64/python3.7/site-packages/tf2onnx/convert.py\", line 161, in <module>\n",
      "    main()\n",
      "  File \"/home/vinay/Workspace/hackathons/inout6/hackinout-ai/env/lib64/python3.7/site-packages/tf2onnx/convert.py\", line 116, in main\n",
      "    graph_def, inputs, outputs = loader.from_graphdef(args.graphdef, args.inputs, args.outputs)\n",
      "  File \"/home/vinay/Workspace/hackathons/inout6/hackinout-ai/env/lib64/python3.7/site-packages/tf2onnx/loader.py\", line 64, in from_graphdef\n",
      "    frozen_graph = freeze_session(sess, output_names=output_names)\n",
      "  File \"/home/vinay/Workspace/hackathons/inout6/hackinout-ai/env/lib64/python3.7/site-packages/tf2onnx/loader.py\", line 26, in freeze_session\n",
      "    output_names = [i.split(':')[:-1][0] for i in output_names]\n",
      "  File \"/home/vinay/Workspace/hackathons/inout6/hackinout-ai/env/lib64/python3.7/site-packages/tf2onnx/loader.py\", line 26, in <listcomp>\n",
      "    output_names = [i.split(':')[:-1][0] for i in output_names]\n",
      "IndexError: list index out of range\n"
     ]
    }
   ],
   "source": [
    "!python3 -m tf2onnx.convert \\\n",
    "        --input mobilenet/frozen_inference_graph.pb \\\n",
    "        --inputs GRAPH_INPUTS \\\n",
    "        --outputs GRAPH_OUTPUTS \\\n",
    "        --output model.onnx \\\n",
    "        --fold_const \\\n",
    "        --verbose"
   ]
  },
  {
   "cell_type": "code",
   "execution_count": 12,
   "metadata": {},
   "outputs": [],
   "source": [
    "\n",
    "# Replace this with your desired input TF model name\n",
    "input_model_name = \"tf_model\"\n",
    "\n",
    "# Replace this with your desired output ONNX model name\n",
    "output_onnx_model = \"model.onnx\"\n"
   ]
  },
  {
   "cell_type": "code",
   "execution_count": 14,
   "metadata": {},
   "outputs": [
    {
     "name": "stdout",
     "output_type": "stream",
     "text": [
      "INFO:tensorflow:Saver not created because there are no variables in the graph to restore\n"
     ]
    }
   ],
   "source": [
    "model = tf.saved_model.load(\"mobilenet\")"
   ]
  },
  {
   "cell_type": "code",
   "execution_count": 17,
   "metadata": {},
   "outputs": [
    {
     "data": {
      "text/plain": [
       "KeysView(_SignatureMap({}))"
      ]
     },
     "execution_count": 17,
     "metadata": {},
     "output_type": "execute_result"
    }
   ],
   "source": [
    "model.signatures.keys()"
   ]
  },
  {
   "cell_type": "code",
   "execution_count": null,
   "metadata": {},
   "outputs": [],
   "source": []
  }
 ],
 "metadata": {
  "kernelspec": {
   "display_name": "Python 3",
   "language": "python",
   "name": "python3"
  },
  "language_info": {
   "codemirror_mode": {
    "name": "ipython",
    "version": 3
   },
   "file_extension": ".py",
   "mimetype": "text/x-python",
   "name": "python",
   "nbconvert_exporter": "python",
   "pygments_lexer": "ipython3",
   "version": "3.7.2"
  }
 },
 "nbformat": 4,
 "nbformat_minor": 2
}
